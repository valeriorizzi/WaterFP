{
 "cells": [
  {
   "cell_type": "code",
   "execution_count": 1,
   "id": "743c9976",
   "metadata": {},
   "outputs": [
    {
     "name": "stderr",
     "output_type": "stream",
     "text": [
      "/home/flg/Programs/anaconda3/envs/mdana/lib/python3.13/site-packages/tqdm/auto.py:21: TqdmWarning: IProgress not found. Please update jupyter and ipywidgets. See https://ipywidgets.readthedocs.io/en/stable/user_install.html\n",
      "  from .autonotebook import tqdm as notebook_tqdm\n"
     ]
    }
   ],
   "source": [
    "import MDAnalysis\n",
    "import numpy\n",
    "import networkx\n",
    "import matplotlib.pyplot\n",
    "import pandas\n",
    "import re"
   ]
  },
  {
   "cell_type": "code",
   "execution_count": 2,
   "id": "dbc8d852",
   "metadata": {},
   "outputs": [],
   "source": [
    "# load fingerprint data for all ligands (guests)\n",
    "\n",
    "c = pandas.read_csv(\"/home/flg/Simulations/fp/figures_paper/revision/fp_selection_automization/ranking.csv\", header=[0])"
   ]
  },
  {
   "cell_type": "code",
   "execution_count": null,
   "id": "fff1fc40",
   "metadata": {},
   "outputs": [],
   "source": [
    "def load_mol(mol:str):\n",
    "    # load connectivity information form tpr file \n",
    "    u = MDAnalysis.Universe(mol+'.tpr')\n",
    "    # select heavy atoms\n",
    "    ha = u.select_atoms(\"resname MOL and not (name H*)\")\n",
    "\n",
    "    # create graph of heavy atoms \n",
    "\n",
    "    G = networkx.Graph()\n",
    "\n",
    "    # add heavy atoms as nodes\n",
    "    for atom in ha:\n",
    "        G.add_node(atom.index, element=atom.name) #extract element form atom name: re.search(r'(\\D+)', atom.name).group(1)\n",
    "    for bond in ha.bonds:\n",
    "        # only add edges between heavy atoms (ignoring hydrogens)\n",
    "        if bond.atoms[0].index in G.nodes and bond.atoms[1].index in G.nodes:\n",
    "            G.add_edge(bond.atoms[0].index, bond.atoms[1].index)\n",
    "\n",
    "    return u, ha, G\n",
    "\n",
    "def path_length(atom1, atom2, G):\n",
    "    try:\n",
    "        length = networkx.shortest_path_length(G, source=atom1.index, target=atom2.index)\n",
    "    except networkx.NetworkXNoPath:\n",
    "        print(f\"No path between {atom1.index} and {atom2.index}\")\n",
    "        length = None\n",
    "    return length\n",
    "\n",
    "def ranking(mol:str):\n",
    "    data = c[c['name'] == mol].sort_values('fp')\n",
    "    return data\n",
    "\n",
    "def select_next_atom(mol:str, verbose=True):\n",
    "\n",
    "    data = ranking(mol)\n",
    "    u, ha, G = load_mol(mol.split('-')[0]+mol.split('-')[1])\n",
    "\n",
    "    \"\"\"\n",
    "    Walk through the fp-sorted table and select the anti-bulk fp atoms.\n",
    "    \n",
    "    Rules:\n",
    "      - First atom is always the first row in the table\n",
    "      - Reject atoms directly connected to the first selected atom (path = 1)\n",
    "      - Compare atoms with fp_round difference < 0.2\n",
    "      - Among atoms with equal fp, pick the atom with the longest path\n",
    "      - Loop through the entire table, until the fp_round difference is not < 0.2   \n",
    "    \"\"\"\n",
    "\n",
    "    # first atom is always the first row in the table\n",
    "    # zero-index in MDAnalysis, one-index in .gro, used for ranking dataframe    \n",
    "\n",
    "    anchor_idx = int(data.iloc[0]['atom']) - 1\n",
    "    anchor_atom = ha[anchor_idx]\n",
    "\n",
    "    if verbose:\n",
    "        print(f\"Highest-ranking atom: {anchor_atom.name} ({int(anchor_atom.index+1)}) with fp_round {data.iloc[0]['fp_round']}\")\n",
    "\n",
    "    # continue with second entry in the table\n",
    "\n",
    "    i = 1\n",
    "    winner = None\n",
    "    l_win = -1\n",
    "\n",
    "    # check if there are more than 2 atoms with identical fp_round as anchor\n",
    "    if data[data['fp_round']==data.iloc[0]['fp_round']].count().values[0]>2:\n",
    "        if verbose:\n",
    "            print(\">2 atoms with identical fp_round as highest-ranking atom -> ambiguous choice\")\n",
    "        return None\n",
    "    while i < len(data):\n",
    "        cand_idx = int(data.iloc[i]['atom']) - 1\n",
    "        cand_atom = ha[cand_idx]\n",
    "        l_cand = path_length(cand_atom, anchor_atom, G)\n",
    "\n",
    "        if l_cand <= 1:\n",
    "            if verbose:\n",
    "                print(f\"{i}: {cand_atom.name} connected to {anchor_atom.name} -> rejected\")\n",
    "            i += 1\n",
    "            continue\n",
    "\n",
    "        if winner is None:\n",
    "            winner = cand_atom\n",
    "            l_win = l_cand\n",
    "            fp_win = float(data.iloc[i]['fp_round'])\n",
    "        else:\n",
    "            fp_cand = float(data.iloc[i]['fp_round'])\n",
    "\n",
    "            if abs(fp_cand - fp_win) < 0.2:\n",
    "                \n",
    "                # candidate is in close fp group\n",
    "                if l_cand > l_win:\n",
    "                    if verbose:\n",
    "                        print(f\"{i}: {cand_atom.name} beats {winner.name} (longer path {l_cand} > {l_win})\")\n",
    "                    winner, l_win, fp_win = cand_atom, l_cand, fp_cand\n",
    "                elif l_cand == l_win:\n",
    "                    if verbose:\n",
    "                        print(f\"{i}: {cand_atom.name} and {winner.name} are equidistant and have same fp -> choose either\")\n",
    "                        if abs(float(data.iloc[i]['fp_round'])) < 2.0:\n",
    "                            print(\"Warning: Very low fingerprint value!\")\n",
    "                    break\n",
    "                else:\n",
    "                    if verbose:\n",
    "                        print(f\"{i}: {cand_atom.name} shorter path than {winner.name} -> ignored\")\n",
    "\n",
    "        i += 1\n",
    "\n",
    "    return f\"anti-bulk fp selection: {anchor_atom.name} ({int(anchor_atom.index+1)}), {winner.name} ({int(winner.index+1)})\""
   ]
  },
  {
   "cell_type": "code",
   "execution_count": 20,
   "id": "ad40ae5d",
   "metadata": {},
   "outputs": [
    {
     "data": {
      "image/png": "[encoded data removed]",
      "text/plain": [
       "<Figure size 640x480 with 1 Axes>"
      ]
     },
     "metadata": {},
     "output_type": "display_data"
    }
   ],
   "source": [
    "u, ha, G = load_mol('S5G1')\n",
    "fig, ax = matplotlib.pyplot.subplots()\n",
    "networkx.draw(G, ax=ax, labels={n: G.nodes[n]['element'] for n in G.nodes}, with_labels=True)\n"
   ]
  },
  {
   "cell_type": "code",
   "execution_count": 21,
   "id": "6ccfcc35",
   "metadata": {},
   "outputs": [
    {
     "name": "stdout",
     "output_type": "stream",
     "text": [
      "Highest-ranking atom: C9 (9) with fp_round -3.4\n",
      "1: C5 connected to C9 -> rejected\n",
      "2: C8 connected to C9 -> rejected\n",
      "3: C6 connected to C9 -> rejected\n",
      "5: C2 shorter path than C4 -> ignored\n",
      "6: C7 shorter path than C4 -> ignored\n"
     ]
    },
    {
     "name": "stderr",
     "output_type": "stream",
     "text": [
      "/home/flg/Programs/anaconda3/envs/mdana/lib/python3.13/site-packages/MDAnalysis/core/universe.py:150: UserWarning: No coordinate reader found for S6G2.tpr. Skipping this file.\n",
      "  warnings.warn('No coordinate reader found for {}. Skipping '\n"
     ]
    },
    {
     "data": {
      "text/plain": [
       "'anti-bulk fp selection: C9 (9), C4 (4)'"
      ]
     },
     "execution_count": 21,
     "metadata": {},
     "output_type": "execute_result"
    }
   ],
   "source": [
    "select_next_atom('S6-G2', verbose=True)"
   ]
  },
  {
   "cell_type": "code",
   "execution_count": 62,
   "id": "d562dadf",
   "metadata": {},
   "outputs": [],
   "source": [
    "def select_bulk_atom(mol:str, verbose=True):\n",
    "\n",
    "    data = ranking(mol)\n",
    "    u, ha, G = load_mol(mol.split('-')[0]+mol.split('-')[1])\n",
    "\n",
    "    \"\"\"\n",
    "    Walk through the fp-sorted table and select the anti-bulk fp atoms.\n",
    "    \n",
    "    Rules:\n",
    "      - First atom is always the first row in the table\n",
    "      - Reject atoms directly connected to the first selected atom (path = 1)\n",
    "      - Compare atoms with fp_round difference < 0.2\n",
    "      - Among atoms with equal fp, pick the atom with the longest path\n",
    "      - Loop through the entire table, until the fp_round difference is not < 0.2   \n",
    "    \"\"\"\n",
    "\n",
    "    # first atom is always the last row in the table\n",
    "    # zero-index in MDAnalysis, one-index in .gro, used for ranking dataframe    \n",
    "\n",
    "    anchor_idx = int(data.iloc[-1]['atom']) - 1\n",
    "    anchor_atom = ha[anchor_idx]\n",
    "\n",
    "    if verbose:\n",
    "        print(f\"Lowest-ranking atom: {anchor_atom.name} ({int(anchor_atom.index+1)}) with fp_round {data.iloc[-1]['fp_round']}\")\n",
    "\n",
    "    # continue with second entry from the bottom in the table\n",
    "\n",
    "    i = - 2\n",
    "    winner = None\n",
    "    l_win = -1\n",
    "    fp_win = float(data.iloc[i]['fp_round'])\n",
    "\n",
    "    # check if there are more than 2 atoms with identical fp_round as anchor\n",
    "    while abs(i) <= len(data):\n",
    "        \n",
    "        cand_idx = int(data.iloc[i]['atom']) - 1\n",
    "        cand_atom = ha[cand_idx]\n",
    "        l_cand = path_length(cand_atom, anchor_atom, G)\n",
    "        fp_cand = float(data.iloc[i]['fp_round'])\n",
    "\n",
    "        #if abs(fp_cand - fp_win) < 0.2:\n",
    "\n",
    "        if l_cand <= 2:\n",
    "            if verbose:\n",
    "                print(f\"{i}: {cand_atom.name} connected to {anchor_atom.name} -> rejected\")\n",
    "        else:\n",
    "            if winner is None:\n",
    "                winner = cand_atom\n",
    "                l_win = l_cand\n",
    "                break\n",
    "            else:\n",
    "                winner = cand_atom\n",
    "                l_win = l_cand\n",
    "                break \n",
    "                \n",
    "            \"\"\" else:\n",
    "                if l_cand > l_win:\n",
    "                    if verbose:\n",
    "                        print(f\"{i}: {cand_atom.name} beats {winner.name} \"\n",
    "                              f\"(longer path {l_cand} > {l_win})\")\n",
    "                    winner, l_win = cand_atom, l_cand\n",
    "                elif l_cand == l_win:\n",
    "                    if verbose:\n",
    "                        print(f\"{i}: {cand_atom.name} and {winner.name} are equidistant \"\n",
    "                              f\"(path {l_cand}) -> choose either\")\n",
    "                else:\n",
    "                    if verbose:\n",
    "                        print(f\"{i}: {cand_atom.name} shorter path than {winner.name} -> ignored\")\n",
    " \"\"\"\n",
    "        i -= 1  # walk upward\n",
    "\n",
    "    return f\"bulk fp selection: {anchor_atom.name} ({int(anchor_atom.index+1)}), \" \\\n",
    "           f\"{winner.name} ({int(winner.index+1)})\""
   ]
  },
  {
   "cell_type": "code",
   "execution_count": 76,
   "id": "593703d1",
   "metadata": {},
   "outputs": [
    {
     "name": "stdout",
     "output_type": "stream",
     "text": [
      "Lowest-ranking atom: C1 (1) with fp_round -1.8\n"
     ]
    },
    {
     "name": "stderr",
     "output_type": "stream",
     "text": [
      "/home/flg/Programs/anaconda3/envs/mdana/lib/python3.13/site-packages/MDAnalysis/core/universe.py:150: UserWarning: No coordinate reader found for S6G7.tpr. Skipping this file.\n",
      "  warnings.warn('No coordinate reader found for {}. Skipping '\n"
     ]
    },
    {
     "data": {
      "text/plain": [
       "'bulk fp selection: C1 (1), O2 (9)'"
      ]
     },
     "execution_count": 76,
     "metadata": {},
     "output_type": "execute_result"
    }
   ],
   "source": [
    "select_bulk_atom('S6-G7', verbose=True)"
   ]
  }
 ],
 "metadata": {
  "kernelspec": {
   "display_name": "mdana",
   "language": "python",
   "name": "python3"
  },
  "language_info": {
   "codemirror_mode": {
    "name": "ipython",
    "version": 3
   },
   "file_extension": ".py",
   "mimetype": "text/x-python",
   "name": "python",
   "nbconvert_exporter": "python",
   "pygments_lexer": "ipython3",
   "version": "3.13.5"
  }
 },
 "nbformat": 4,
 "nbformat_minor": 5
}
